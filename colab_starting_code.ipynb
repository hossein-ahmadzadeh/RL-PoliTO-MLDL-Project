{
  "nbformat": 4,
  "nbformat_minor": 0,
  "metadata": {
    "colab": {
      "provenance": [],
      "collapsed_sections": [
        "ydblMr8VqPjR"
      ]
    },
    "kernelspec": {
      "name": "python3",
      "display_name": "Python 3"
    },
    "language_info": {
      "name": "python"
    }
  },
  "cells": [
    {
      "cell_type": "markdown",
      "source": [
        "# PYTHON 3.8 INSTALLATION"
      ],
      "metadata": {
        "id": "BfVvO8RtqRgO"
      }
    },
    {
      "cell_type": "code",
      "source": [
        "!apt-get install python3.8 python3.8-distutils python3.8-dev python3-pip -y"
      ],
      "metadata": {
        "id": "aiCBarOLjbSk",
        "collapsed": true
      },
      "execution_count": null,
      "outputs": []
    },
    {
      "cell_type": "code",
      "source": [
        "!python3.8 --version"
      ],
      "metadata": {
        "id": "kGcrkQGQojFC"
      },
      "execution_count": null,
      "outputs": []
    },
    {
      "cell_type": "code",
      "source": [
        "!python3.8 -m pip --version"
      ],
      "metadata": {
        "id": "xq3GzCzlqDs2"
      },
      "execution_count": null,
      "outputs": []
    },
    {
      "cell_type": "code",
      "execution_count": null,
      "metadata": {
        "id": "7VdrJhX8ivwV"
      },
      "outputs": [],
      "source": [
        "!apt-get install -y \\\n",
        "    libgl1-mesa-dev \\\n",
        "    libgl1-mesa-glx \\\n",
        "    libglew-dev \\\n",
        "    libosmesa6-dev \\\n",
        "    software-properties-common\n",
        "\n",
        "!apt-get install -y patchelf\n"
      ]
    },
    {
      "cell_type": "markdown",
      "source": [
        "# MUJOCO SETUP"
      ],
      "metadata": {
        "id": "ydblMr8VqPjR"
      }
    },
    {
      "cell_type": "code",
      "source": [
        "!mkdir ~/.mujoco\n",
        "!wget -q https://mujoco.org/download/mujoco210-linux-x86_64.tar.gz -O mujoco.tar.gz\n",
        "!tar -zxf mujoco.tar.gz -C \"$HOME/.mujoco\"\n",
        "!rm mujoco.tar.gz"
      ],
      "metadata": {
        "id": "rhRWYq2sizT8"
      },
      "execution_count": null,
      "outputs": []
    },
    {
      "cell_type": "code",
      "source": [
        "!ls \"$HOME/.mujoco\""
      ],
      "metadata": {
        "id": "B_4CDleT3U5S"
      },
      "execution_count": null,
      "outputs": []
    },
    {
      "cell_type": "code",
      "source": [
        "%env LD_LIBRARY_PATH=/root/.mujoco/mujoco210/bin:/usr/local/nvidia/lib:/usr/local/nvidia/lib64"
      ],
      "metadata": {
        "id": "AsDMFX-n3gbj"
      },
      "execution_count": null,
      "outputs": []
    },
    {
      "cell_type": "markdown",
      "source": [
        "# PROJECT SETUP"
      ],
      "metadata": {
        "id": "FrbVWSBLqiW3"
      }
    },
    {
      "cell_type": "code",
      "source": [
        "%cd /content"
      ],
      "metadata": {
        "id": "BeinMADB4EOv"
      },
      "execution_count": null,
      "outputs": []
    },
    {
      "cell_type": "code",
      "source": [
        "!git clone https://github.com/lambdavi/rl_mldl_25.git"
      ],
      "metadata": {
        "id": "Cw1IBP4sj1FT"
      },
      "execution_count": null,
      "outputs": []
    },
    {
      "cell_type": "code",
      "source": [
        "%cd rl_mldl_25"
      ],
      "metadata": {
        "id": "pJXm_mwClkhM"
      },
      "execution_count": null,
      "outputs": []
    },
    {
      "cell_type": "code",
      "source": [
        "!python3.8 -m pip install -r requirements.txt"
      ],
      "metadata": {
        "id": "JaxPjYwrntNG"
      },
      "execution_count": null,
      "outputs": []
    },
    {
      "cell_type": "code",
      "source": [
        "!git pull # Remember to pull every time you make local changes\n",
        "!python3.8 test_random_policy.py\n",
        "# If you see this error: mujoco_py.cymj.GlfwError: Failed to initialize GLFW\n",
        "# You need to make sure you are not rendering the environment (render=True) since\n",
        "# colab doesn't support it (officially)"
      ],
      "metadata": {
        "id": "Emx_jSLsnwFW",
        "collapsed": true
      },
      "execution_count": null,
      "outputs": []
    },
    {
      "cell_type": "code",
      "source": [],
      "metadata": {
        "id": "oSAV7rXcowPG"
      },
      "execution_count": null,
      "outputs": []
    }
  ]
}